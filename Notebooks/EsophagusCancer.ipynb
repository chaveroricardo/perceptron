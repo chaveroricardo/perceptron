{
  "nbformat": 4,
  "nbformat_minor": 0,
  "metadata": {
    "colab": {
      "provenance": [],
      "authorship_tag": "ABX9TyNR5carvpss/78stucI1Peq",
      "include_colab_link": true
    },
    "kernelspec": {
      "name": "python3",
      "display_name": "Python 3"
    },
    "language_info": {
      "name": "python"
    }
  },
  "cells": [
    {
      "cell_type": "markdown",
      "metadata": {
        "id": "view-in-github",
        "colab_type": "text"
      },
      "source": [
        "<a href=\"https://colab.research.google.com/github/chaveroricardo/perceptron/blob/main/Notebooks/EsophagusCancer.ipynb\" target=\"_parent\"><img src=\"https://colab.research.google.com/assets/colab-badge.svg\" alt=\"Open In Colab\"/></a>"
      ]
    },
    {
      "cell_type": "code",
      "execution_count": 1,
      "metadata": {
        "id": "XGfYTlVuMk1N"
      },
      "outputs": [],
      "source": [
        "import numpy as np\n",
        "import pandas as pd\n",
        "from sklearn.model_selection import train_test_split, GridSearchCV\n",
        "from sklearn.linear_model import Perceptron\n",
        "from sklearn.ensemble import RandomForestClassifier\n",
        "from sklearn.svm import SVC\n",
        "from sklearn.metrics import (\n",
        "    accuracy_score, recall_score, precision_score, f1_score,\n",
        "    roc_auc_score, roc_curve, auc, ConfusionMatrixDisplay\n",
        ")\n",
        "import matplotlib.pyplot as plt\n",
        "import seaborn as sns\n",
        "import pickle"
      ]
    },
    {
      "cell_type": "code",
      "source": [
        "from google.colab import drive\n",
        "drive.mount('/content/drive')"
      ],
      "metadata": {
        "colab": {
          "base_uri": "https://localhost:8080/"
        },
        "id": "YQb3LA4zNUas",
        "outputId": "d5bc7134-4846-4836-e970-89b487563d8a"
      },
      "execution_count": 2,
      "outputs": [
        {
          "output_type": "stream",
          "name": "stdout",
          "text": [
            "Drive already mounted at /content/drive; to attempt to forcibly remount, call drive.mount(\"/content/drive\", force_remount=True).\n"
          ]
        }
      ]
    },
    {
      "cell_type": "code",
      "source": [
        "# Path to the pickle file with preprocessed images\n",
        "ruta2 = '/content/drive/MyDrive/MLBusiness/'\n",
        "pickle_file_path = ruta2 + \"imagenes_numpy.pkl\"\n",
        "# Load the image data from pickle file\n",
        "with open(pickle_file_path, 'rb') as f:\n",
        "    X = pickle.load(f)\n",
        "\n",
        "# Verify the data\n",
        "print(\"Loaded image data shape:\", X.shape)"
      ],
      "metadata": {
        "colab": {
          "base_uri": "https://localhost:8080/"
        },
        "id": "ub-iYrc-NOXh",
        "outputId": "acc297df-903d-47ea-adc3-dea7c0f5b461"
      },
      "execution_count": 3,
      "outputs": [
        {
          "output_type": "stream",
          "name": "stdout",
          "text": [
            "Loaded image data shape: (5063,)\n"
          ]
        }
      ]
    },
    {
      "cell_type": "code",
      "source": [
        "data = pd.read_csv(\"https://raw.githubusercontent.com/AnIsAsPe/ClassificadorCancerEsofago/master/Datos/ClasesImagenes.csv\", usecols=[1,2])\n",
        "y = data['class_number'].values\n",
        "\n",
        "print(\"Labels shape:\", y.shape)\n"
      ],
      "metadata": {
        "colab": {
          "base_uri": "https://localhost:8080/"
        },
        "id": "IWT3VqK1PRvl",
        "outputId": "af7beebd-37c2-4473-aa1b-6f71ca61c2b8"
      },
      "execution_count": 4,
      "outputs": [
        {
          "output_type": "stream",
          "name": "stdout",
          "text": [
            "Labels shape: (5063,)\n"
          ]
        }
      ]
    },
    {
      "cell_type": "code",
      "source": [
        "pickle_file_path = np.stack(X, axis=0)   # Takes a sequence of matrices and stacks them along\n",
        "                              # a third axis to make a single array\n",
        "pickle_file_path.shape\n"
      ],
      "metadata": {
        "colab": {
          "base_uri": "https://localhost:8080/"
        },
        "id": "rwAoVfYlO9C1",
        "outputId": "9ec1c1d8-e813-40b1-f117-09d83c05ae0e"
      },
      "execution_count": 5,
      "outputs": [
        {
          "output_type": "execute_result",
          "data": {
            "text/plain": [
              "(5063, 260, 260)"
            ]
          },
          "metadata": {},
          "execution_count": 5
        }
      ]
    },
    {
      "cell_type": "code",
      "source": [
        "X = pickle_file_path.reshape(5063, 67600)\n",
        "X.shape"
      ],
      "metadata": {
        "id": "2o5KA0P5QpfI",
        "colab": {
          "base_uri": "https://localhost:8080/"
        },
        "outputId": "e1b52b5f-3990-44ab-c0bc-414cd5e5f732"
      },
      "execution_count": 6,
      "outputs": [
        {
          "output_type": "execute_result",
          "data": {
            "text/plain": [
              "(5063, 67600)"
            ]
          },
          "metadata": {},
          "execution_count": 6
        }
      ]
    },
    {
      "cell_type": "code",
      "source": [
        "from sklearn.model_selection import train_test_split\n",
        "\n",
        "# Split data\n",
        "X_train, X_test, y_train, y_test = train_test_split(X, y, test_size=0.3, random_state=0)\n",
        "print(\"Training set shape:\", X_train.shape)\n",
        "print(\"Test set shape:\", X_test.shape)\n"
      ],
      "metadata": {
        "colab": {
          "base_uri": "https://localhost:8080/"
        },
        "id": "Aj13e2GSS8Qx",
        "outputId": "6466c87c-3955-4bee-f5f4-39baa958ea54"
      },
      "execution_count": 7,
      "outputs": [
        {
          "output_type": "stream",
          "name": "stdout",
          "text": [
            "Training set shape: (3544, 67600)\n",
            "Test set shape: (1519, 67600)\n"
          ]
        }
      ]
    },
    {
      "cell_type": "code",
      "source": [
        "from sklearn.linear_model import Perceptron, SGDClassifier\n",
        "from sklearn.ensemble import RandomForestClassifier\n",
        "from sklearn.svm import LinearSVC\n",
        "from sklearn.metrics import accuracy_score, recall_score, precision_score, f1_score, roc_auc_score\n",
        "\n",
        "# Define optimized models\n",
        "models = {\n",
        "    \"Perceptron\": Perceptron(max_iter=1000, random_state=0, verbose=False, penalty='l2', alpha=0.000005),\n",
        "    \"Random Forest\": RandomForestClassifier(random_state=0, n_estimators=100),\n",
        "    \"Linear SVM\": LinearSVC(random_state=0, max_iter=10000),  # Faster version of SVM for high-dimensional data\n",
        "    \"SGD Classifier (SVM Approximation)\": SGDClassifier(loss=\"hinge\", random_state=0, max_iter=1000, tol=1e-3)\n",
        "}\n",
        "\n",
        "# Store performance metrics for each model\n",
        "model_performance = {}\n",
        "\n",
        "for model_name, model in models.items():\n",
        "    model.fit(X_train, y_train)\n",
        "    y_pred = model.predict(X_test)\n",
        "\n",
        "    # Get probability estimates for ROC AUC\n",
        "    if model_name == \"Perceptron\":\n",
        "        y_proba = model.decision_function(X_test)\n",
        "    elif model_name == \"Linear SVM\":\n",
        "        # Since LinearSVC does not have a probability output, use decision_function\n",
        "        y_proba = model.decision_function(X_test)\n",
        "    else:\n",
        "        y_proba = model.predict_proba(X_test)[:, 1] if hasattr(model, \"predict_proba\") else None\n",
        "\n",
        "    # Calculate metrics\n",
        "    accuracy = accuracy_score(y_test, y_pred)\n",
        "    recall = recall_score(y_test, y_pred)\n",
        "    precision = precision_score(y_test, y_pred)\n",
        "    f1 = f1_score(y_test, y_pred)\n",
        "    roc_auc = roc_auc_score(y_test, y_proba) if y_proba is not None else None\n",
        "\n",
        "    # Store performance\n",
        "    model_performance[model_name] = {\n",
        "        \"Accuracy\": accuracy,\n",
        "        \"Recall\": recall,\n",
        "        \"Precision\": precision,\n",
        "        \"F1 Score\": f1,\n",
        "        \"ROC AUC\": roc_auc\n",
        "    }\n",
        "\n",
        "    # Display metrics\n",
        "    print(f\"\\nModel: {model_name}\")\n",
        "    print(f\"Accuracy: {accuracy:.2f}\")\n",
        "    print(f\"Recall: {recall:.2f}\")\n",
        "    print(f\"Precision: {precision:.2f}\")\n",
        "    print(f\"F1 Score: {f1:.2f}\")\n",
        "    if roc_auc is not None:\n",
        "        print(f\"ROC AUC: {roc_auc:.2f}\")\n",
        "    else:\n",
        "        print(\"ROC AUC: Not available (no probability output)\")\n"
      ],
      "metadata": {
        "colab": {
          "base_uri": "https://localhost:8080/"
        },
        "id": "twHKJ26nPGPB",
        "outputId": "18d6540c-462e-492f-b16e-45fb4f44b37c"
      },
      "execution_count": null,
      "outputs": [
        {
          "output_type": "stream",
          "name": "stdout",
          "text": [
            "\n",
            "Model: Perceptron\n",
            "Accuracy: 0.90\n",
            "Recall: 0.94\n",
            "Precision: 0.92\n",
            "F1 Score: 0.93\n",
            "ROC AUC: 0.95\n"
          ]
        }
      ]
    }
  ]
}