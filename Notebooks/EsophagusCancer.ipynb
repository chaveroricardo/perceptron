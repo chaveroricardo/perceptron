{
  "nbformat": 4,
  "nbformat_minor": 0,
  "metadata": {
    "colab": {
      "provenance": [],
      "authorship_tag": "ABX9TyNI+mhFtmK7GodwVIipKEJv",
      "include_colab_link": true
    },
    "kernelspec": {
      "name": "python3",
      "display_name": "Python 3"
    },
    "language_info": {
      "name": "python"
    }
  },
  "cells": [
    {
      "cell_type": "markdown",
      "metadata": {
        "id": "view-in-github",
        "colab_type": "text"
      },
      "source": [
        "<a href=\"https://colab.research.google.com/github/chaveroricardo/perceptron/blob/main/Notebooks/EsophagusCancer.ipynb\" target=\"_parent\"><img src=\"https://colab.research.google.com/assets/colab-badge.svg\" alt=\"Open In Colab\"/></a>"
      ]
    },
    {
      "cell_type": "code",
      "execution_count": 6,
      "metadata": {
        "id": "XGfYTlVuMk1N"
      },
      "outputs": [],
      "source": [
        "import numpy as np\n",
        "import pandas as pd\n",
        "from sklearn.model_selection import train_test_split, GridSearchCV\n",
        "from sklearn.linear_model import Perceptron\n",
        "from sklearn.ensemble import RandomForestClassifier\n",
        "from sklearn.svm import SVC\n",
        "from sklearn.metrics import (\n",
        "    accuracy_score, recall_score, precision_score, f1_score,\n",
        "    roc_auc_score, roc_curve, auc, ConfusionMatrixDisplay\n",
        ")\n",
        "import matplotlib.pyplot as plt\n",
        "import seaborn as sns\n",
        "import pickle"
      ]
    },
    {
      "cell_type": "code",
      "source": [
        "from google.colab import drive\n",
        "drive.mount('/content/drive')"
      ],
      "metadata": {
        "colab": {
          "base_uri": "https://localhost:8080/"
        },
        "id": "YQb3LA4zNUas",
        "outputId": "1df15e82-9401-4b16-fde8-7ba562b6fd5f"
      },
      "execution_count": 7,
      "outputs": [
        {
          "output_type": "stream",
          "name": "stdout",
          "text": [
            "Drive already mounted at /content/drive; to attempt to forcibly remount, call drive.mount(\"/content/drive\", force_remount=True).\n"
          ]
        }
      ]
    },
    {
      "cell_type": "code",
      "source": [
        "# Path to the pickle file with preprocessed images\n",
        "ruta2 = '/content/drive/MyDrive/MLBusiness/'\n",
        "pickle_file_path = ruta2 + \"imagenes_numpy.pkl\"\n",
        "# Load the image data from pickle file\n",
        "with open(pickle_file_path, 'rb') as f:\n",
        "    X = pickle.load(f)\n",
        "\n",
        "# Verify the data\n",
        "print(\"Loaded image data shape:\", X.shape)"
      ],
      "metadata": {
        "colab": {
          "base_uri": "https://localhost:8080/"
        },
        "id": "ub-iYrc-NOXh",
        "outputId": "9145d33d-271f-47e5-fa96-e4a5bee8f7d3"
      },
      "execution_count": 11,
      "outputs": [
        {
          "output_type": "stream",
          "name": "stdout",
          "text": [
            "Loaded image data shape: (5063,)\n"
          ]
        }
      ]
    },
    {
      "cell_type": "code",
      "source": [
        "data = pd.read_csv(\"https://raw.githubusercontent.com/AnIsAsPe/ClassificadorCancerEsofago/master/Datos/ClasesImagenes.csv\", usecols=[1,2])\n",
        "y = data['class_number'].values\n",
        "\n",
        "print(\"Labels shape:\", y.shape)\n"
      ],
      "metadata": {
        "colab": {
          "base_uri": "https://localhost:8080/"
        },
        "id": "IWT3VqK1PRvl",
        "outputId": "34a1e124-a331-4406-be4d-8386333331dd"
      },
      "execution_count": 12,
      "outputs": [
        {
          "output_type": "stream",
          "name": "stdout",
          "text": [
            "Labels shape: (5063,)\n"
          ]
        }
      ]
    },
    {
      "cell_type": "code",
      "source": [
        "pickle_file_path = np.stack(img, axis=0)   # Takes a sequence of matrices and stacks them along\n",
        "                              # a third axis to make a single array\n",
        "pickle_file_path.shape\n"
      ],
      "metadata": {
        "colab": {
          "base_uri": "https://localhost:8080/"
        },
        "id": "rwAoVfYlO9C1",
        "outputId": "ffc48796-9d49-4c84-c320-54dda178baac"
      },
      "execution_count": 13,
      "outputs": [
        {
          "output_type": "execute_result",
          "data": {
            "text/plain": [
              "(5063, 260, 260)"
            ]
          },
          "metadata": {},
          "execution_count": 13
        }
      ]
    },
    {
      "cell_type": "code",
      "source": [
        "X = pickle_file_path.reshape(5063, 67600)\n",
        "X.shape"
      ],
      "metadata": {
        "id": "2o5KA0P5QpfI",
        "colab": {
          "base_uri": "https://localhost:8080/"
        },
        "outputId": "e476887d-9e7b-42c2-fa85-9e8787c86b73"
      },
      "execution_count": 14,
      "outputs": [
        {
          "output_type": "execute_result",
          "data": {
            "text/plain": [
              "(5063, 67600)"
            ]
          },
          "metadata": {},
          "execution_count": 14
        }
      ]
    },
    {
      "cell_type": "code",
      "source": [
        "from sklearn.model_selection import train_test_split\n",
        "\n",
        "# Split data\n",
        "X_train, X_test, y_train, y_test = train_test_split(X, y, test_size=0.3, random_state=0)\n",
        "print(\"Training set shape:\", X_train.shape)\n",
        "print(\"Test set shape:\", X_test.shape)\n"
      ],
      "metadata": {
        "colab": {
          "base_uri": "https://localhost:8080/"
        },
        "id": "Aj13e2GSS8Qx",
        "outputId": "996585fe-ee85-491a-baac-3381dd142d8f"
      },
      "execution_count": 16,
      "outputs": [
        {
          "output_type": "stream",
          "name": "stdout",
          "text": [
            "Training set shape: (3544, 67600)\n",
            "Test set shape: (1519, 67600)\n"
          ]
        }
      ]
    },
    {
      "cell_type": "code",
      "source": [
        "from sklearn.linear_model import Perceptron\n",
        "from sklearn.ensemble import RandomForestClassifier\n",
        "from sklearn.svm import SVC\n",
        "from sklearn.metrics import accuracy_score, recall_score, precision_score, f1_score, roc_auc_score\n",
        "\n",
        "# Define models\n",
        "models = {\n",
        "    \"Perceptron\": Perceptron(max_iter=1000, random_state=0, penalty='l2', alpha=0.0001),\n",
        "    \"Random Forest\": RandomForestClassifier(random_state=0, n_estimators=100),\n",
        "    \"SVM\": SVC(kernel='linear', probability=True, random_state=0)\n",
        "}\n",
        "\n",
        "# Train and evaluate each model\n",
        "model_performance = {}\n",
        "\n",
        "for model_name, model in models.items():\n",
        "    model.fit(X_train, y_train)\n",
        "    y_pred = model.predict(X_test)\n",
        "    y_proba = model.decision_function(X_test) if model_name == \"Perceptron\" else model.predict_proba(X_test)[:, 1]\n",
        "\n",
        "    # Calculate metrics\n",
        "    accuracy = accuracy_score(y_test, y_pred)\n",
        "    recall = recall_score(y_test, y_pred)\n",
        "    precision = precision_score(y_test, y_pred)\n",
        "    f1 = f1_score(y_test, y_pred)\n",
        "    roc_auc = roc_auc_score(y_test, y_proba)\n",
        "\n",
        "    model_performance[model_name] = {\n",
        "        \"Accuracy\": accuracy,\n",
        "        \"Recall\": recall,\n",
        "        \"Precision\": precision,\n",
        "        \"F1 Score\": f1,\n",
        "        \"ROC AUC\": roc_auc\n",
        "    }\n",
        "\n",
        "    print(f\"\\nModel: {model_name}\")\n",
        "    print(f\"Accuracy: {accuracy:.2f}\")\n",
        "    print(f\"Recall: {recall:.2f}\")\n",
        "    print(f\"Precision: {precision:.2f}\")\n",
        "    print(f\"F1 Score: {f1:.2f}\")\n",
        "    print(f\"ROC AUC: {roc_auc:.2f}\")\n"
      ],
      "metadata": {
        "colab": {
          "base_uri": "https://localhost:8080/"
        },
        "id": "twHKJ26nPGPB",
        "outputId": "fe1595c2-d0a7-461c-8f88-2063da6155a9"
      },
      "execution_count": null,
      "outputs": [
        {
          "output_type": "stream",
          "name": "stdout",
          "text": [
            "\n",
            "Model: Perceptron\n",
            "Accuracy: 0.77\n",
            "Recall: 0.97\n",
            "Precision: 0.78\n",
            "F1 Score: 0.86\n",
            "ROC AUC: 0.81\n",
            "\n",
            "Model: Random Forest\n",
            "Accuracy: 0.97\n",
            "Recall: 1.00\n",
            "Precision: 0.96\n",
            "F1 Score: 0.98\n",
            "ROC AUC: 0.99\n"
          ]
        }
      ]
    }
  ]
}